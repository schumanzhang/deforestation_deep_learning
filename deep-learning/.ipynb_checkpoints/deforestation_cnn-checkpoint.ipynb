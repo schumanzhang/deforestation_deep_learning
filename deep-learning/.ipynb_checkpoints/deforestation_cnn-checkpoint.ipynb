{
 "cells": [
  {
   "cell_type": "markdown",
   "metadata": {},
   "source": [
    "# Identifying deforestation using CNNs"
   ]
  },
  {
   "cell_type": "markdown",
   "metadata": {
    "collapsed": true
   },
   "source": [
    "Using a variety of deep learning techniques, including transfer learning, to classify satellite images of the Amazon rainforest"
   ]
  },
  {
   "cell_type": "markdown",
   "metadata": {},
   "source": [
    "## Preparing the data\n",
    "\n",
    "We are given a folder with 40000+ satellite images and a corresponding csv file "
   ]
  },
  {
   "cell_type": "code",
   "execution_count": 66,
   "metadata": {
    "collapsed": false
   },
   "outputs": [
    {
     "name": "stdout",
     "output_type": "stream",
     "text": [
      "                                      filepath   image_name  \\\n",
      "id                                                            \n",
      "40474  ../data/train/train-jpg/train_40474.jpg  train_40474   \n",
      "40475  ../data/train/train-jpg/train_40475.jpg  train_40475   \n",
      "40476  ../data/train/train-jpg/train_40476.jpg  train_40476   \n",
      "40477  ../data/train/train-jpg/train_40477.jpg  train_40477   \n",
      "40478  ../data/train/train-jpg/train_40478.jpg  train_40478   \n",
      "\n",
      "                                                tags  \n",
      "id                                                    \n",
      "40474                                  clear primary  \n",
      "40475                                         cloudy  \n",
      "40476                      agriculture clear primary  \n",
      "40477                 agriculture clear primary road  \n",
      "40478  agriculture cultivation partly_cloudy primary  \n"
     ]
    },
    {
     "name": "stderr",
     "output_type": "stream",
     "text": [
      "/Users/schumanzhang/anaconda/lib/python2.7/site-packages/ipykernel/__main__.py:26: FutureWarning: sort(columns=....) is deprecated, use sort_values(by=.....)\n"
     ]
    }
   ],
   "source": [
    "import numpy as np\n",
    "from sklearn.datasets import load_files\n",
    "from keras.utils import np_utils\n",
    "from glob import glob\n",
    "import pandas as pd\n",
    "import re\n",
    "\n",
    "def load_data_files(path):\n",
    "    data = load_files(path)\n",
    "    filenames = np.array(data['filenames'])\n",
    "    return filenames\n",
    "\n",
    "def add_numerical(df):\n",
    "    numerical = []\n",
    "    for index, row in df.iterrows():\n",
    "        numerical.append(re.sub(\"[^0-9]\", \"\", row['filepath']))\n",
    "        \n",
    "    df['id'] = pd.Series(numerical).values\n",
    "    return df\n",
    "    \n",
    "total_files = load_data_files('../data/train')\n",
    "df = pd.DataFrame(np.hstack((total_files)))\n",
    "df.columns = ['filepath']\n",
    "df = add_numerical(df)\n",
    "df['id'] = pd.to_numeric(df['id'], errors='coerce')\n",
    "df = df.sort('id', ascending=True)\n",
    "df.set_index('id', inplace=True)\n",
    "\n",
    "csv_data = pd.read_csv('../data/labels.csv')\n",
    "\n",
    "df['image_name'] = pd.Series(csv_data['image_name'])\n",
    "df['tags'] = pd.Series(csv_data['tags'])\n",
    "\n",
    "print(df.tail())\n"
   ]
  },
  {
   "cell_type": "code",
   "execution_count": null,
   "metadata": {
    "collapsed": true
   },
   "outputs": [],
   "source": []
  }
 ],
 "metadata": {
  "kernelspec": {
   "display_name": "Python 2",
   "language": "python",
   "name": "python2"
  },
  "language_info": {
   "codemirror_mode": {
    "name": "ipython",
    "version": 2
   },
   "file_extension": ".py",
   "mimetype": "text/x-python",
   "name": "python",
   "nbconvert_exporter": "python",
   "pygments_lexer": "ipython2",
   "version": "2.7.11"
  }
 },
 "nbformat": 4,
 "nbformat_minor": 0
}
